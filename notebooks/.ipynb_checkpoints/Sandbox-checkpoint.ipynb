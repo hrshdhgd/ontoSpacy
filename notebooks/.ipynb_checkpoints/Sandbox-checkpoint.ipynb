{
 "cells": [
  {
   "cell_type": "code",
   "execution_count": 1,
   "id": "improving-thursday",
   "metadata": {},
   "outputs": [],
   "source": [
    "%reset -f"
   ]
  },
  {
   "cell_type": "code",
   "execution_count": 3,
   "id": "studied-grace",
   "metadata": {
    "scrolled": true
   },
   "outputs": [
    {
     "name": "stdout",
     "output_type": "stream",
     "text": [
      "/opt/anaconda3/envs/ontoSpacy/lib/python3.9/site-packages/spacy-3.0.5-py3.9-macosx-10.9-x86_64.egg/spacy/training/pretrain.py:145: SyntaxWarning: \"is not\" with a literal. Did you mean \"!=\"?\n",
      "  tok2vec.upstream_name if tok2vec.upstream_name is not \"*\" else \"tok2vec\"\n",
      "Collecting en-core-web-sm==3.0.0\n",
      "  Downloading https://github.com/explosion/spacy-models/releases/download/en_core_web_sm-3.0.0/en_core_web_sm-3.0.0-py3-none-any.whl (13.7 MB)\n",
      "\u001b[K     |████████████████████████████████| 13.7 MB 13.2 MB/s eta 0:00:01\n",
      "\u001b[?25hRequirement already satisfied: spacy<3.1.0,>=3.0.0 in /opt/anaconda3/envs/ontoSpacy/lib/python3.9/site-packages/spacy-3.0.5-py3.9-macosx-10.9-x86_64.egg (from en-core-web-sm==3.0.0) (3.0.5)\n",
      "Requirement already satisfied: blis<0.8.0,>=0.4.0 in /opt/anaconda3/envs/ontoSpacy/lib/python3.9/site-packages/blis-0.7.4-py3.9-macosx-10.9-x86_64.egg (from spacy<3.1.0,>=3.0.0->en-core-web-sm==3.0.0) (0.7.4)\n",
      "Requirement already satisfied: catalogue<2.1.0,>=2.0.1 in /opt/anaconda3/envs/ontoSpacy/lib/python3.9/site-packages/catalogue-2.0.1-py3.9.egg (from spacy<3.1.0,>=3.0.0->en-core-web-sm==3.0.0) (2.0.1)\n",
      "Requirement already satisfied: cymem<2.1.0,>=2.0.2 in /opt/anaconda3/envs/ontoSpacy/lib/python3.9/site-packages/cymem-2.0.5-py3.9-macosx-10.9-x86_64.egg (from spacy<3.1.0,>=3.0.0->en-core-web-sm==3.0.0) (2.0.5)\n",
      "Requirement already satisfied: jinja2 in /opt/anaconda3/envs/ontoSpacy/lib/python3.9/site-packages (from spacy<3.1.0,>=3.0.0->en-core-web-sm==3.0.0) (2.11.3)\n",
      "Requirement already satisfied: murmurhash<1.1.0,>=0.28.0 in /opt/anaconda3/envs/ontoSpacy/lib/python3.9/site-packages/murmurhash-1.0.5-py3.9-macosx-10.9-x86_64.egg (from spacy<3.1.0,>=3.0.0->en-core-web-sm==3.0.0) (1.0.5)\n",
      "Requirement already satisfied: numpy>=1.15.0 in /opt/anaconda3/envs/ontoSpacy/lib/python3.9/site-packages/numpy-1.20.1-py3.9-macosx-10.9-x86_64.egg (from spacy<3.1.0,>=3.0.0->en-core-web-sm==3.0.0) (1.20.1)\n",
      "Requirement already satisfied: packaging>=20.0 in /opt/anaconda3/envs/ontoSpacy/lib/python3.9/site-packages (from spacy<3.1.0,>=3.0.0->en-core-web-sm==3.0.0) (20.9)\n",
      "Requirement already satisfied: pathy>=0.3.5 in /opt/anaconda3/envs/ontoSpacy/lib/python3.9/site-packages/pathy-0.4.0-py3.9.egg (from spacy<3.1.0,>=3.0.0->en-core-web-sm==3.0.0) (0.4.0)\n",
      "Requirement already satisfied: preshed<3.1.0,>=3.0.2 in /opt/anaconda3/envs/ontoSpacy/lib/python3.9/site-packages/preshed-3.0.5-py3.9-macosx-10.9-x86_64.egg (from spacy<3.1.0,>=3.0.0->en-core-web-sm==3.0.0) (3.0.5)\n",
      "Requirement already satisfied: pydantic<1.8.0,>=1.7.1 in /opt/anaconda3/envs/ontoSpacy/lib/python3.9/site-packages/pydantic-1.7.3-py3.9-macosx-10.9-x86_64.egg (from spacy<3.1.0,>=3.0.0->en-core-web-sm==3.0.0) (1.7.3)\n",
      "Requirement already satisfied: requests<3.0.0,>=2.13.0 in /opt/anaconda3/envs/ontoSpacy/lib/python3.9/site-packages/requests-2.25.1-py3.9.egg (from spacy<3.1.0,>=3.0.0->en-core-web-sm==3.0.0) (2.25.1)\n",
      "Requirement already satisfied: setuptools in /opt/anaconda3/envs/ontoSpacy/lib/python3.9/site-packages (from spacy<3.1.0,>=3.0.0->en-core-web-sm==3.0.0) (52.0.0.post20210125)\n",
      "Requirement already satisfied: spacy-legacy<3.1.0,>=3.0.0 in /opt/anaconda3/envs/ontoSpacy/lib/python3.9/site-packages/spacy_legacy-3.0.1-py3.9.egg (from spacy<3.1.0,>=3.0.0->en-core-web-sm==3.0.0) (3.0.1)\n",
      "Requirement already satisfied: srsly<3.0.0,>=2.4.0 in /opt/anaconda3/envs/ontoSpacy/lib/python3.9/site-packages/srsly-2.4.0-py3.9-macosx-10.9-x86_64.egg (from spacy<3.1.0,>=3.0.0->en-core-web-sm==3.0.0) (2.4.0)\n",
      "Requirement already satisfied: thinc<8.1.0,>=8.0.2 in /opt/anaconda3/envs/ontoSpacy/lib/python3.9/site-packages/thinc-8.0.2-py3.9-macosx-10.9-x86_64.egg (from spacy<3.1.0,>=3.0.0->en-core-web-sm==3.0.0) (8.0.2)\n",
      "Requirement already satisfied: tqdm<5.0.0,>=4.38.0 in /opt/anaconda3/envs/ontoSpacy/lib/python3.9/site-packages/tqdm-4.59.0-py3.9.egg (from spacy<3.1.0,>=3.0.0->en-core-web-sm==3.0.0) (4.59.0)\n",
      "Requirement already satisfied: typer<0.4.0,>=0.3.0 in /opt/anaconda3/envs/ontoSpacy/lib/python3.9/site-packages/typer-0.3.2-py3.9.egg (from spacy<3.1.0,>=3.0.0->en-core-web-sm==3.0.0) (0.3.2)\n",
      "Requirement already satisfied: wasabi<1.1.0,>=0.8.1 in /opt/anaconda3/envs/ontoSpacy/lib/python3.9/site-packages/wasabi-0.8.2-py3.9.egg (from spacy<3.1.0,>=3.0.0->en-core-web-sm==3.0.0) (0.8.2)\n",
      "Requirement already satisfied: pyparsing>=2.0.2 in /opt/anaconda3/envs/ontoSpacy/lib/python3.9/site-packages (from packaging>=20.0->spacy<3.1.0,>=3.0.0->en-core-web-sm==3.0.0) (2.4.7)\n",
      "Requirement already satisfied: smart-open<4.0.0,>=2.2.0 in /opt/anaconda3/envs/ontoSpacy/lib/python3.9/site-packages/smart_open-3.0.0-py3.9.egg (from pathy>=0.3.5->spacy<3.1.0,>=3.0.0->en-core-web-sm==3.0.0) (3.0.0)\n",
      "Requirement already satisfied: certifi>=2017.4.17 in /opt/anaconda3/envs/ontoSpacy/lib/python3.9/site-packages (from requests<3.0.0,>=2.13.0->spacy<3.1.0,>=3.0.0->en-core-web-sm==3.0.0) (2020.12.5)\n",
      "Requirement already satisfied: chardet<5,>=3.0.2 in /opt/anaconda3/envs/ontoSpacy/lib/python3.9/site-packages/chardet-4.0.0-py3.9.egg (from requests<3.0.0,>=2.13.0->spacy<3.1.0,>=3.0.0->en-core-web-sm==3.0.0) (4.0.0)\n",
      "Requirement already satisfied: idna<3,>=2.5 in /opt/anaconda3/envs/ontoSpacy/lib/python3.9/site-packages/idna-2.10-py3.9.egg (from requests<3.0.0,>=2.13.0->spacy<3.1.0,>=3.0.0->en-core-web-sm==3.0.0) (2.10)\n",
      "Requirement already satisfied: urllib3<1.27,>=1.21.1 in /opt/anaconda3/envs/ontoSpacy/lib/python3.9/site-packages/urllib3-1.26.4-py3.9.egg (from requests<3.0.0,>=2.13.0->spacy<3.1.0,>=3.0.0->en-core-web-sm==3.0.0) (1.26.4)\n",
      "Requirement already satisfied: click<7.2.0,>=7.1.1 in /opt/anaconda3/envs/ontoSpacy/lib/python3.9/site-packages/click-7.1.2-py3.9.egg (from typer<0.4.0,>=0.3.0->spacy<3.1.0,>=3.0.0->en-core-web-sm==3.0.0) (7.1.2)\n",
      "Requirement already satisfied: MarkupSafe>=0.23 in /opt/anaconda3/envs/ontoSpacy/lib/python3.9/site-packages (from jinja2->spacy<3.1.0,>=3.0.0->en-core-web-sm==3.0.0) (1.1.1)\n",
      "Installing collected packages: en-core-web-sm\n",
      "Successfully installed en-core-web-sm-3.0.0\n",
      "\u001b[38;5;2m✔ Download and installation successful\u001b[0m\n",
      "You can now load the package via spacy.load('en_core_web_sm')\n"
     ]
    }
   ],
   "source": [
    "# One time run.\n",
    "# ! python -m spacy download en_core_web_sm"
   ]
  },
  {
   "cell_type": "markdown",
   "id": "white-precipitation",
   "metadata": {},
   "source": [
    "## Imports"
   ]
  },
  {
   "cell_type": "code",
   "execution_count": 20,
   "id": "whole-schema",
   "metadata": {},
   "outputs": [],
   "source": [
    "from pronto import Ontology\n",
    "import spacy\n",
    "from spacy.tokens import Doc, Span, Token\n",
    "from spacy.matcher import PhraseMatcher\n",
    "from spacy.util import filter_spans\n",
    "from spacy.language import Language\n",
    "#import progressbar\n",
    "\n",
    "from spacy import displacy\n"
   ]
  },
  {
   "cell_type": "code",
   "execution_count": 21,
   "id": "legendary-headquarters",
   "metadata": {},
   "outputs": [],
   "source": [
    "class ENVOExtractor(object):\n",
    "    \n",
    "    @Language.component('envo_extractor')\n",
    "    \n",
    "    def __init__(self, nlp, label=\"ENVO\"):\n",
    "        self.label = label\n",
    "        \n",
    "        print('Loading ENVO')\n",
    "        envo = Ontology(\"http://purl.obolibrary.org/obo/envo.owl\")\n",
    "        \n",
    "        self.terms = {}\n",
    "        patterns = []\n",
    "        \n",
    "        barStatus = 0\n",
    "        ner_terms = len(envo)\n",
    "        print(\"Importing terms\")\n",
    "        bar = progressbar.ProgressBar(maxval=ner_terms, \n",
    "                                      widgets=[progressbar.Bar('=', '[', ']'), progressbar.Percentage()])\n",
    "        #bar.start()\n",
    "        \n",
    "        # Iterate over terms in ontology\n",
    "        for term in envo:\n",
    "            if term.name is not None:\n",
    "                self.terms[term.name.lower()] = {'id': term.id}\n",
    "                patterns.append(nlp(term.name))\n",
    "            #barStatus += 1\n",
    "            \n",
    "        #bar.finish()\n",
    "        \n",
    "        # Initialize matcher & add patterns\n",
    "        self.matcher = PhraseMatcher(nlp.vocab, attr='LOWER')\n",
    "        self.matcher.add(label, None, *patterns)\n",
    "        \n",
    "        # Set extensions to tokens, spans and docs\n",
    "        Token.set_extension('is_envo_term', default=False, force=True)\n",
    "        Token.set_extension(\"envo_id\", default=False, force=True)\n",
    "        Token.set_extension(\"merged_concept\", default=False, force=True)\n",
    "        Doc.set_extension(\"has_envo_ids\", getter=self.has_envo_ids, force=True)\n",
    "        Doc.set_extension(\"envo_ids\", default=[], force=True)\n",
    "        Span.set_extension(\"has_envo_ids\", getter=self.has_envo_ids, force=True)\n",
    "        \n",
    "    def __call__(delf, doc):\n",
    "        matches = self.matcher(doc)\n",
    "        spans = [Span(doc, match[1], match[2], label=self.label) for match in matches]\n",
    "        for i, span in enumerate(spans):\n",
    "          span._.set(\"has_envo_ids\", True)\n",
    "          for token in span:\n",
    "               token._.set(\"is_envo_term\", True)\n",
    "               token._.set(\"envo_id\", self.terms[span.text.lower()][\"id\"])\n",
    "\n",
    "        with doc.retokenize() as retokenizer:\n",
    "            for span in filter_spans(spans):\n",
    "                retokenizer.merge(span, attrs={\"_\": {\"merged_concept\": True}})\n",
    "                doc._.envo_ids = list(doc._.envo_ids) + [span]\n",
    "\n",
    "        return doc\n",
    "        \n",
    "    # Setter function for doc level\n",
    "    def has_envo_ids(self, tokens):\n",
    "        return any([t._.get(\"is_envo_term\") for t in tokens])\n",
    "        "
   ]
  },
  {
   "cell_type": "code",
   "execution_count": 22,
   "id": "sustainable-amsterdam",
   "metadata": {},
   "outputs": [
    {
     "name": "stdout",
     "output_type": "stream",
     "text": [
      "Loading ENVO\n",
      "Importing terms\n",
      "CPU times: user 18.5 s, sys: 58.2 ms, total: 18.5 s\n",
      "Wall time: 19.7 s\n"
     ]
    },
    {
     "data": {
      "text/plain": [
       "[('tok2vec', <spacy.pipeline.tok2vec.Tok2Vec at 0x7fd6d49e3a90>),\n",
       " ('tagger', <spacy.pipeline.tagger.Tagger at 0x7fd6d4b7f8b0>),\n",
       " ('parser', <spacy.pipeline.dep_parser.DependencyParser at 0x7fd6e22d2220>),\n",
       " ('ner', <spacy.pipeline.ner.EntityRecognizer at 0x7fd6e2290ca0>),\n",
       " ('envo_extractor',\n",
       "  <function __main__.ENVOExtractor.__init__(self, nlp, label='ENVO')>),\n",
       " ('attribute_ruler',\n",
       "  <spacy.pipeline.attributeruler.AttributeRuler at 0x7fd6e227b580>),\n",
       " ('lemmatizer',\n",
       "  <spacy.lang.en.lemmatizer.EnglishLemmatizer at 0x7fd6e2251d00>)]"
      ]
     },
     "execution_count": 22,
     "metadata": {},
     "output_type": "execute_result"
    }
   ],
   "source": [
    "%%time\n",
    "nlp = spacy.load(\"en_core_web_sm\")\n",
    "envo_extractor = ENVOExtractor(nlp)\n",
    "nlp.add_pipe('envo_extractor', after='ner')\n",
    "nlp.pipeline"
   ]
  },
  {
   "cell_type": "code",
   "execution_count": 18,
   "id": "mighty-container",
   "metadata": {},
   "outputs": [],
   "source": [
    "test = \"Whether this may represent an early manifestation of a viral myocarditis is not certain,\\\n",
    "but there was no significant brisk lymphocytic inflammatory infiltrate consistent with the\\\n",
    "typical pattern of viral myocarditis...\\\n",
    "There is prior evidence of viral infection causing activation of both maladaptive cytokine pathways,\\\n",
    "and platelet response, and our findings suggest that these immune functions may be related to\\\n",
    "severe forms of Covid-19. In response to systemic and pulmonary viral infections of H1N1\\\n",
    "influenza and dengue, megakaryocytes have been known to respond by overexpressing IFITM3,\\\n",
    "and producing platelets with the same over-expression.\""
   ]
  },
  {
   "cell_type": "code",
   "execution_count": 19,
   "id": "moderate-toner",
   "metadata": {},
   "outputs": [
    {
     "ename": "TypeError",
     "evalue": "__init__() missing 1 required positional argument: 'nlp'",
     "output_type": "error",
     "traceback": [
      "\u001b[0;31m---------------------------------------------------------------------------\u001b[0m",
      "\u001b[0;31mTypeError\u001b[0m                                 Traceback (most recent call last)",
      "\u001b[0;32m<ipython-input-19-18f4c40d34d8>\u001b[0m in \u001b[0;36m<module>\u001b[0;34m\u001b[0m\n\u001b[0;32m----> 1\u001b[0;31m \u001b[0mdoc\u001b[0m \u001b[0;34m=\u001b[0m \u001b[0mnlp\u001b[0m\u001b[0;34m(\u001b[0m\u001b[0mtest\u001b[0m\u001b[0;34m)\u001b[0m\u001b[0;34m\u001b[0m\u001b[0;34m\u001b[0m\u001b[0m\n\u001b[0m",
      "\u001b[0;32m/opt/anaconda3/envs/ontoSpacy/lib/python3.9/site-packages/spacy-3.0.5-py3.9-macosx-10.9-x86_64.egg/spacy/language.py\u001b[0m in \u001b[0;36m__call__\u001b[0;34m(self, text, disable, component_cfg)\u001b[0m\n\u001b[1;32m    993\u001b[0m                 \u001b[0;32mraise\u001b[0m \u001b[0mValueError\u001b[0m\u001b[0;34m(\u001b[0m\u001b[0mErrors\u001b[0m\u001b[0;34m.\u001b[0m\u001b[0mE109\u001b[0m\u001b[0;34m.\u001b[0m\u001b[0mformat\u001b[0m\u001b[0;34m(\u001b[0m\u001b[0mname\u001b[0m\u001b[0;34m=\u001b[0m\u001b[0mname\u001b[0m\u001b[0;34m)\u001b[0m\u001b[0;34m)\u001b[0m \u001b[0;32mfrom\u001b[0m \u001b[0me\u001b[0m\u001b[0;34m\u001b[0m\u001b[0;34m\u001b[0m\u001b[0m\n\u001b[1;32m    994\u001b[0m             \u001b[0;32mexcept\u001b[0m \u001b[0mException\u001b[0m \u001b[0;32mas\u001b[0m \u001b[0me\u001b[0m\u001b[0;34m:\u001b[0m\u001b[0;34m\u001b[0m\u001b[0;34m\u001b[0m\u001b[0m\n\u001b[0;32m--> 995\u001b[0;31m                 \u001b[0merror_handler\u001b[0m\u001b[0;34m(\u001b[0m\u001b[0mname\u001b[0m\u001b[0;34m,\u001b[0m \u001b[0mproc\u001b[0m\u001b[0;34m,\u001b[0m \u001b[0;34m[\u001b[0m\u001b[0mdoc\u001b[0m\u001b[0;34m]\u001b[0m\u001b[0;34m,\u001b[0m \u001b[0me\u001b[0m\u001b[0;34m)\u001b[0m\u001b[0;34m\u001b[0m\u001b[0;34m\u001b[0m\u001b[0m\n\u001b[0m\u001b[1;32m    996\u001b[0m             \u001b[0;32mif\u001b[0m \u001b[0mdoc\u001b[0m \u001b[0;32mis\u001b[0m \u001b[0;32mNone\u001b[0m\u001b[0;34m:\u001b[0m\u001b[0;34m\u001b[0m\u001b[0;34m\u001b[0m\u001b[0m\n\u001b[1;32m    997\u001b[0m                 \u001b[0;32mraise\u001b[0m \u001b[0mValueError\u001b[0m\u001b[0;34m(\u001b[0m\u001b[0mErrors\u001b[0m\u001b[0;34m.\u001b[0m\u001b[0mE005\u001b[0m\u001b[0;34m.\u001b[0m\u001b[0mformat\u001b[0m\u001b[0;34m(\u001b[0m\u001b[0mname\u001b[0m\u001b[0;34m=\u001b[0m\u001b[0mname\u001b[0m\u001b[0;34m)\u001b[0m\u001b[0;34m)\u001b[0m\u001b[0;34m\u001b[0m\u001b[0;34m\u001b[0m\u001b[0m\n",
      "\u001b[0;32m/opt/anaconda3/envs/ontoSpacy/lib/python3.9/site-packages/spacy-3.0.5-py3.9-macosx-10.9-x86_64.egg/spacy/util.py\u001b[0m in \u001b[0;36mraise_error\u001b[0;34m(proc_name, proc, docs, e)\u001b[0m\n\u001b[1;32m   1496\u001b[0m \u001b[0;34m\u001b[0m\u001b[0m\n\u001b[1;32m   1497\u001b[0m \u001b[0;32mdef\u001b[0m \u001b[0mraise_error\u001b[0m\u001b[0;34m(\u001b[0m\u001b[0mproc_name\u001b[0m\u001b[0;34m,\u001b[0m \u001b[0mproc\u001b[0m\u001b[0;34m,\u001b[0m \u001b[0mdocs\u001b[0m\u001b[0;34m,\u001b[0m \u001b[0me\u001b[0m\u001b[0;34m)\u001b[0m\u001b[0;34m:\u001b[0m\u001b[0;34m\u001b[0m\u001b[0;34m\u001b[0m\u001b[0m\n\u001b[0;32m-> 1498\u001b[0;31m     \u001b[0;32mraise\u001b[0m \u001b[0me\u001b[0m\u001b[0;34m\u001b[0m\u001b[0;34m\u001b[0m\u001b[0m\n\u001b[0m\u001b[1;32m   1499\u001b[0m \u001b[0;34m\u001b[0m\u001b[0m\n\u001b[1;32m   1500\u001b[0m \u001b[0;34m\u001b[0m\u001b[0m\n",
      "\u001b[0;32m/opt/anaconda3/envs/ontoSpacy/lib/python3.9/site-packages/spacy-3.0.5-py3.9-macosx-10.9-x86_64.egg/spacy/language.py\u001b[0m in \u001b[0;36m__call__\u001b[0;34m(self, text, disable, component_cfg)\u001b[0m\n\u001b[1;32m    988\u001b[0m                 \u001b[0merror_handler\u001b[0m \u001b[0;34m=\u001b[0m \u001b[0mproc\u001b[0m\u001b[0;34m.\u001b[0m\u001b[0mget_error_handler\u001b[0m\u001b[0;34m(\u001b[0m\u001b[0;34m)\u001b[0m\u001b[0;34m\u001b[0m\u001b[0;34m\u001b[0m\u001b[0m\n\u001b[1;32m    989\u001b[0m             \u001b[0;32mtry\u001b[0m\u001b[0;34m:\u001b[0m\u001b[0;34m\u001b[0m\u001b[0;34m\u001b[0m\u001b[0m\n\u001b[0;32m--> 990\u001b[0;31m                 \u001b[0mdoc\u001b[0m \u001b[0;34m=\u001b[0m \u001b[0mproc\u001b[0m\u001b[0;34m(\u001b[0m\u001b[0mdoc\u001b[0m\u001b[0;34m,\u001b[0m \u001b[0;34m**\u001b[0m\u001b[0mcomponent_cfg\u001b[0m\u001b[0;34m.\u001b[0m\u001b[0mget\u001b[0m\u001b[0;34m(\u001b[0m\u001b[0mname\u001b[0m\u001b[0;34m,\u001b[0m \u001b[0;34m{\u001b[0m\u001b[0;34m}\u001b[0m\u001b[0;34m)\u001b[0m\u001b[0;34m)\u001b[0m\u001b[0;34m\u001b[0m\u001b[0;34m\u001b[0m\u001b[0m\n\u001b[0m\u001b[1;32m    991\u001b[0m             \u001b[0;32mexcept\u001b[0m \u001b[0mKeyError\u001b[0m \u001b[0;32mas\u001b[0m \u001b[0me\u001b[0m\u001b[0;34m:\u001b[0m\u001b[0;34m\u001b[0m\u001b[0;34m\u001b[0m\u001b[0m\n\u001b[1;32m    992\u001b[0m                 \u001b[0;31m# This typically happens if a component is not initialized\u001b[0m\u001b[0;34m\u001b[0m\u001b[0;34m\u001b[0m\u001b[0;34m\u001b[0m\u001b[0m\n",
      "\u001b[0;31mTypeError\u001b[0m: __init__() missing 1 required positional argument: 'nlp'"
     ]
    }
   ],
   "source": [
    "doc = nlp(test)"
   ]
  },
  {
   "cell_type": "code",
   "execution_count": null,
   "id": "random-vision",
   "metadata": {},
   "outputs": [],
   "source": [
    "displacy.render(doc, style='ent')"
   ]
  },
  {
   "cell_type": "code",
   "execution_count": null,
   "id": "muslim-stewart",
   "metadata": {},
   "outputs": [],
   "source": []
  }
 ],
 "metadata": {
  "kernelspec": {
   "display_name": "Python 3",
   "language": "python",
   "name": "python3"
  },
  "language_info": {
   "codemirror_mode": {
    "name": "ipython",
    "version": 3
   },
   "file_extension": ".py",
   "mimetype": "text/x-python",
   "name": "python",
   "nbconvert_exporter": "python",
   "pygments_lexer": "ipython3",
   "version": "3.9.2"
  }
 },
 "nbformat": 4,
 "nbformat_minor": 5
}
