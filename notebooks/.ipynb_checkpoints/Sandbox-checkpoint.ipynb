{
 "cells": [
  {
   "cell_type": "code",
   "execution_count": 1,
   "id": "acknowledged-minority",
   "metadata": {},
   "outputs": [],
   "source": [
    "%reset -f"
   ]
  },
  {
   "cell_type": "code",
   "execution_count": null,
   "id": "vital-architecture",
   "metadata": {
    "code_folding": [
     0
    ],
    "scrolled": true
   },
   "outputs": [],
   "source": [
    "# One time run.\n",
    "# ! python -m spacy download en_core_web_sm"
   ]
  },
  {
   "cell_type": "markdown",
   "id": "wicked-password",
   "metadata": {},
   "source": [
    "## Imports"
   ]
  },
  {
   "cell_type": "code",
   "execution_count": 2,
   "id": "distributed-reach",
   "metadata": {},
   "outputs": [],
   "source": [
    "#from pronto import Ontology\n",
    "import spacy\n",
    "from spacy.tokens import Doc, Span, Token\n",
    "from spacy.matcher import PhraseMatcher\n",
    "from spacy.util import filter_spans\n",
    "from spacy.language import Language\n",
    "from spacy.lang.en import English\n",
    "from spacy import displacy\n",
    "import os\n",
    "import pandas as pd\n",
    "import json"
   ]
  },
  {
   "cell_type": "code",
   "execution_count": 3,
   "id": "acknowledged-silver",
   "metadata": {},
   "outputs": [
    {
     "data": {
      "text/html": [
       "<div>\n",
       "<style scoped>\n",
       "    .dataframe tbody tr th:only-of-type {\n",
       "        vertical-align: middle;\n",
       "    }\n",
       "\n",
       "    .dataframe tbody tr th {\n",
       "        vertical-align: top;\n",
       "    }\n",
       "\n",
       "    .dataframe thead th {\n",
       "        text-align: right;\n",
       "    }\n",
       "</style>\n",
       "<table border=\"1\" class=\"dataframe\">\n",
       "  <thead>\n",
       "    <tr style=\"text-align: right;\">\n",
       "      <th></th>\n",
       "      <th>CURIE</th>\n",
       "      <th>name</th>\n",
       "      <th>category</th>\n",
       "    </tr>\n",
       "  </thead>\n",
       "  <tbody>\n",
       "    <tr>\n",
       "      <th>0</th>\n",
       "      <td>CHEBI:25213</td>\n",
       "      <td>metal cation</td>\n",
       "      <td>biolink:ChemicalSubstance</td>\n",
       "    </tr>\n",
       "    <tr>\n",
       "      <th>1</th>\n",
       "      <td>CHEBI:25212</td>\n",
       "      <td>metabolite</td>\n",
       "      <td>biolink:ChemicalSubstance</td>\n",
       "    </tr>\n",
       "    <tr>\n",
       "      <th>2</th>\n",
       "      <td>CHEBI:25216</td>\n",
       "      <td>metalloporphyrin</td>\n",
       "      <td>biolink:ChemicalSubstance</td>\n",
       "    </tr>\n",
       "    <tr>\n",
       "      <th>3</th>\n",
       "      <td>UBERON:0011595</td>\n",
       "      <td>jaw region</td>\n",
       "      <td>biolink:AnatomicalEntity</td>\n",
       "    </tr>\n",
       "    <tr>\n",
       "      <th>4</th>\n",
       "      <td>CHEBI:76807</td>\n",
       "      <td>EC 3.5.1.* (non-peptide linear amide C-N hydro...</td>\n",
       "      <td>biolink:ChemicalSubstance</td>\n",
       "    </tr>\n",
       "  </tbody>\n",
       "</table>\n",
       "</div>"
      ],
      "text/plain": [
       "            CURIE                                               name  \\\n",
       "0     CHEBI:25213                                       metal cation   \n",
       "1     CHEBI:25212                                         metabolite   \n",
       "2     CHEBI:25216                                   metalloporphyrin   \n",
       "3  UBERON:0011595                                         jaw region   \n",
       "4     CHEBI:76807  EC 3.5.1.* (non-peptide linear amide C-N hydro...   \n",
       "\n",
       "                    category  \n",
       "0  biolink:ChemicalSubstance  \n",
       "1  biolink:ChemicalSubstance  \n",
       "2  biolink:ChemicalSubstance  \n",
       "3   biolink:AnatomicalEntity  \n",
       "4  biolink:ChemicalSubstance  "
      ]
     },
     "execution_count": 3,
     "metadata": {},
     "output_type": "execute_result"
    }
   ],
   "source": [
    "cols = ['CUI', 'source', 'CURIE', 'name', 'description', 'category']\n",
    "envoTerms = pd.read_csv(os.path.join('terms', 'envo_termlist.tsv'), sep='\\t', low_memory=False, names=cols)\n",
    "envoTerms = envoTerms.drop(['CUI', 'source','description'], axis=1)\n",
    "envoTerms.head()"
   ]
  },
  {
   "cell_type": "code",
   "execution_count": 4,
   "id": "instant-sound",
   "metadata": {},
   "outputs": [
    {
     "name": "stdout",
     "output_type": "stream",
     "text": [
      "CPU times: user 33.3 s, sys: 85.8 ms, total: 33.3 s\n",
      "Wall time: 33.4 s\n"
     ]
    }
   ],
   "source": [
    "%%time\n",
    "nlp = spacy.load(\"en_core_web_sm\")\n",
    "# Set terms and patterns\n",
    "terms = {}\n",
    "patterns = []\n",
    "for curie, name, category in envoTerms.to_records(index=False):\n",
    "    if name is not None:\n",
    "        terms[name.lower()] = {'id': curie, 'category': category}\n",
    "        patterns.append(nlp(name))"
   ]
  },
  {
   "cell_type": "code",
   "execution_count": 18,
   "id": "better-packing",
   "metadata": {},
   "outputs": [],
   "source": [
    "@Language.component('envo_extractor')\n",
    "def envo_extractor(doc):\n",
    "    \n",
    "    matches = matcher(doc)\n",
    "    \n",
    "    spans = [Span(doc, start, end, label = 'ENVO') for matchId, start, end in matches]\n",
    "    \n",
    "    doc.ents = spans\n",
    "    \n",
    "    for i, span in enumerate(spans):\n",
    "        span._.set(\"has_envo_ids\", True)\n",
    "        for token in span:\n",
    "            token._.set(\"is_envo_term\", True)\n",
    "            token._.set(\"envo_id\", terms[span.text.lower()][\"id\"])\n",
    "            token._.set(\"category\", terms[span.text.lower()][\"category\"])\n",
    "\n",
    "    '''with doc.retokenize() as retokenizer:\n",
    "        for span in filter_spans(spans):\n",
    "            retokenizer.merge(span, attrs={\"_\": {\"merged_concept\": True}})\n",
    "            doc._.envo_ids = list(doc._.envo_ids) + [span]'''\n",
    "    \n",
    "    return doc\n",
    "\n",
    "# Setter function for doc level\n",
    "def has_envo_ids(self, tokens):\n",
    "    return any([t._.get(\"is_envo_term\") for t in tokens])\n",
    "\n",
    "def resolve_substrings(matcher, doc, i, matches):\n",
    "    # Get the current match and create tuple of entity label, start and end.\n",
    "    # Append entity to the doc's entity. (Don't overwrite doc.ents!)\n",
    "    match_id, start, end = matches[i]\n",
    "    entity = Span(doc, start, end, label=\"ENVO\")\n",
    "    doc.ents += (entity,)\n",
    "    print(entity.text)\n",
    "    "
   ]
  },
  {
   "cell_type": "code",
   "execution_count": 19,
   "id": "scientific-output",
   "metadata": {},
   "outputs": [
    {
     "name": "stdout",
     "output_type": "stream",
     "text": [
      "CPU times: user 408 ms, sys: 12.3 ms, total: 421 ms\n",
      "Wall time: 420 ms\n"
     ]
    },
    {
     "data": {
      "text/plain": [
       "[('tok2vec', <spacy.pipeline.tok2vec.Tok2Vec at 0x7fd42c18f040>),\n",
       " ('tagger', <spacy.pipeline.tagger.Tagger at 0x7fd42c1ac770>),\n",
       " ('parser', <spacy.pipeline.dep_parser.DependencyParser at 0x7fd42ab8e1c0>),\n",
       " ('ner', <spacy.pipeline.ner.EntityRecognizer at 0x7fd42ab8e940>),\n",
       " ('envo_extractor', <function __main__.envo_extractor(doc)>),\n",
       " ('attribute_ruler',\n",
       "  <spacy.pipeline.attributeruler.AttributeRuler at 0x7fd42b2d27c0>),\n",
       " ('lemmatizer',\n",
       "  <spacy.lang.en.lemmatizer.EnglishLemmatizer at 0x7fd42b975080>)]"
      ]
     },
     "execution_count": 19,
     "metadata": {},
     "output_type": "execute_result"
    }
   ],
   "source": [
    "%%time\n",
    "nlp = spacy.load(\"en_core_web_sm\")\n",
    "matcher = PhraseMatcher(nlp.vocab)\n",
    "matcher.add(\"ENVO\", None, *patterns, on_match=resolve_substrings)\n",
    "nlp.add_pipe('envo_extractor', after='ner')\n",
    "nlp.pipeline"
   ]
  },
  {
   "cell_type": "code",
   "execution_count": null,
   "id": "ethical-champion",
   "metadata": {},
   "outputs": [],
   "source": [
    "# Set extensions to tokens, spans and docs\n",
    "Token.set_extension('is_envo_term', default=False, force=True)\n",
    "Token.set_extension(\"envo_id\", default=False, force=True)\n",
    "#Token.set_extension(\"merged_concept\", default=False, force=True)\n",
    "Token.set_extension(\"category\", default=False, force=True)\n",
    "Doc.set_extension(\"has_envo_ids\", getter=has_envo_ids, force=True)\n",
    "Doc.set_extension(\"envo_ids\", default=[], force=True)\n",
    "Span.set_extension(\"has_envo_ids\", getter=has_envo_ids, force=True)"
   ]
  },
  {
   "cell_type": "code",
   "execution_count": null,
   "id": "offensive-christmas",
   "metadata": {
    "scrolled": true
   },
   "outputs": [],
   "source": [
    "test = \"\"\"Treponema denticola ATCC 35405. Treponema denticola ATCC 35405 was isolated from a human periodontal\n",
    "pocket and is the type strain of this organism.Treponema pallidum subsp. pallidum. This organism is the \n",
    "causative agent of endemic and venereal syphilis. This sexual transmitted disease was first discovered in \n",
    "Europe at the end of the fifteenth century, however, the causative agent was not identified until 1905. \n",
    "At one time syphilis was the third most commonly reported communicable disease in the USA. Syphilis is \n",
    "characterized by multiple clinical stages and long periods of latent, asymptomatic infection. Although \n",
    "effective therapies have been available since the introduction of penicillin, syphilis remains a global \n",
    "health problem. Contains many homopolymeric tracts in the genome which result in hypervariable sequences\n",
    "in many genes having to do with cells. These result in hypervarible antigenic \n",
    "diversity and immune evasion. Overall, the genome contains very few repetitive DNA sequences and very few \n",
    "coding regions arranged in operons. Pathogenicity factors include cytolethal-distending toxin, hemolysin-like \n",
    "toxins, and a type II secretion system. Francisella tularensis subsp. tularensis strain Schu S4. \n",
    "This subspecies is virulent in humans, and the strain is a clinical isolate that is also virulent \n",
    "in an animal model. Originally isolated from a human case of tularemia in 1951. Genome analysis indicates \n",
    "the presence of a large number of pseudogenes, many that disrupt important metabolic pathways, which is the \n",
    "reason for the exacting nutritional requirements of this organism. There is a duplicated pathogenicity island \n",
    "that has also been detected in strain LVS and mutations in the iglA, iglC, or pdpD genes affect the ability \n",
    "of the pathogen to survive in macrophages. The genome also contains genes for type IV pili production and \n",
    "capsular polysaccharide genes similar to those of Bacillus anthracis as well as numerous ABC transporters. \n",
    "There are a large number of insertion sequences including a mariner element, which is a transposon typically \n",
    "found in eukaryotes and is the first instance of this element to be found in a microbe, which may have \n",
    "acquired it during transit through one of the insect vectors. Pseudomonas fluorescens strain Pf0-1. \n",
    "This strain was isolated from agricultural loam (sand, clay, and organic matter) soil in 1988 by \n",
    "Compeau et al. and is well adapted to soil environments. Ralstonia solanacearum strain GMI1000. \n",
    "This strain is a race 1 strain isolated from the tomato plant and is also pathogenic on Arabidopsis thaliana. \n",
    "It specifically invades the plant xylem. \n",
    "\"\"\"\n",
    "doc = nlp(test)\n",
    "displacy.render(doc, style='ent')"
   ]
  },
  {
   "cell_type": "markdown",
   "id": "corporate-perspective",
   "metadata": {
    "heading_collapsed": true
   },
   "source": [
    "### old code"
   ]
  },
  {
   "cell_type": "code",
   "execution_count": null,
   "id": "former-precipitation",
   "metadata": {
    "code_folding": [
     0
    ],
    "hidden": true
   },
   "outputs": [],
   "source": [
    "'''class ENVOExtractor(object):\n",
    "    \n",
    "    name = 'envo_extractor'\n",
    "    \n",
    "    def __init__(self, doc, label=\"ENVO\"):\n",
    "        self.label = label\n",
    "        \n",
    "        print('Loading ENVO')\n",
    "        envo = Ontology(\"http://purl.obolibrary.org/obo/envo.owl\")\n",
    "        \n",
    "        self.terms = {}\n",
    "        patterns = []\n",
    "        ner_terms = len(envo)\n",
    "        print(\"Importing terms\")\n",
    "        \n",
    "        # iterate over terms in ontology\n",
    "        for idx, term in envo.terms.items():\n",
    "            # if term has a name\n",
    "            if term.name is not None:\n",
    "                self.terms[term.name.lower()] = {'id': term.id}\n",
    "                patterns.append(nlp(term.name))\n",
    "        \n",
    "        # Initialize matcher & add patterns\n",
    "        self.matcher = PhraseMatcher(nlp.vocab)\n",
    "        self.matcher.add(label, None, *patterns)\n",
    "        \n",
    "        # Set extensions to tokens, spans and docs\n",
    "        Token.set_extension('is_envo_term', default=False, force=True)\n",
    "        Token.set_extension(\"envo_id\", default=False, force=True)\n",
    "        Token.set_extension(\"merged_concept\", default=False, force=True)\n",
    "        Doc.set_extension(\"has_envo_ids\", getter=self.has_envo_ids, force=True)\n",
    "        Doc.set_extension(\"envo_ids\", default=[], force=True)\n",
    "        Span.set_extension(\"has_envo_ids\", getter=self.has_envo_ids, force=True)\n",
    "        \n",
    "    def __call__(self, doc):\n",
    "        matches = self.matcher(doc)\n",
    "        spans = [Span(doc, start, end, label=self.label) for matchId, start, end in matches]\n",
    "        doc.ents = spans\n",
    "        \n",
    "        for i, span in enumerate(spans):\n",
    "          span._.set(\"has_envo_ids\", True)\n",
    "          for token in span:\n",
    "               token._.set(\"is_envo_term\", True)\n",
    "               token._.set(\"envo_id\", self.terms[span.text.lower()][\"id\"])\n",
    "\n",
    "        with doc.retokenize() as retokenizer:\n",
    "            for span in filter_spans(spans):\n",
    "                retokenizer.merge(span, attrs={\"_\": {\"merged_concept\": True}})\n",
    "                doc._.envo_ids = list(doc._.envo_ids) + [span]\n",
    "\n",
    "        return doc\n",
    "        \n",
    "    # Setter function for doc level\n",
    "    def has_envo_ids(self, tokens):\n",
    "        return any([t._.get(\"is_envo_term\") for t in tokens])\n",
    "        '''"
   ]
  },
  {
   "cell_type": "markdown",
   "id": "disturbed-cooling",
   "metadata": {},
   "source": [
    "## Gotcha!"
   ]
  },
  {
   "cell_type": "code",
   "execution_count": 20,
   "id": "superb-scholarship",
   "metadata": {
    "scrolled": true
   },
   "outputs": [
    {
     "name": "stdout",
     "output_type": "stream",
     "text": [
      "[surface, surface structures]\n"
     ]
    },
    {
     "ename": "ValueError",
     "evalue": "[E1010] Unable to set entity information for token 0 which is included in more than one span in entities, blocked, missing or outside.",
     "output_type": "error",
     "traceback": [
      "\u001b[0;31m---------------------------------------------------------------------------\u001b[0m",
      "\u001b[0;31mValueError\u001b[0m                                Traceback (most recent call last)",
      "\u001b[0;32m<ipython-input-20-1fa4f7e91ce4>\u001b[0m in \u001b[0;36m<module>\u001b[0;34m\u001b[0m\n\u001b[1;32m      6\u001b[0m \u001b[0;31m#print(envoTerms[envoTerms['name'].str.contains('surface structure')])\u001b[0m\u001b[0;34m\u001b[0m\u001b[0;34m\u001b[0m\u001b[0;34m\u001b[0m\u001b[0m\n\u001b[1;32m      7\u001b[0m \u001b[0mtest1\u001b[0m \u001b[0;34m=\u001b[0m \u001b[0;34m\"\"\"surface structures.\"\"\"\u001b[0m\u001b[0;34m\u001b[0m\u001b[0;34m\u001b[0m\u001b[0m\n\u001b[0;32m----> 8\u001b[0;31m \u001b[0mdoc\u001b[0m \u001b[0;34m=\u001b[0m \u001b[0mnlp\u001b[0m\u001b[0;34m(\u001b[0m\u001b[0mtest1\u001b[0m\u001b[0;34m)\u001b[0m\u001b[0;34m\u001b[0m\u001b[0;34m\u001b[0m\u001b[0m\n\u001b[0m",
      "\u001b[0;32m/opt/anaconda3/envs/ontoSpacy/lib/python3.9/site-packages/spacy-3.0.5-py3.9-macosx-10.9-x86_64.egg/spacy/language.py\u001b[0m in \u001b[0;36m__call__\u001b[0;34m(self, text, disable, component_cfg)\u001b[0m\n\u001b[1;32m    993\u001b[0m                 \u001b[0;32mraise\u001b[0m \u001b[0mValueError\u001b[0m\u001b[0;34m(\u001b[0m\u001b[0mErrors\u001b[0m\u001b[0;34m.\u001b[0m\u001b[0mE109\u001b[0m\u001b[0;34m.\u001b[0m\u001b[0mformat\u001b[0m\u001b[0;34m(\u001b[0m\u001b[0mname\u001b[0m\u001b[0;34m=\u001b[0m\u001b[0mname\u001b[0m\u001b[0;34m)\u001b[0m\u001b[0;34m)\u001b[0m \u001b[0;32mfrom\u001b[0m \u001b[0me\u001b[0m\u001b[0;34m\u001b[0m\u001b[0;34m\u001b[0m\u001b[0m\n\u001b[1;32m    994\u001b[0m             \u001b[0;32mexcept\u001b[0m \u001b[0mException\u001b[0m \u001b[0;32mas\u001b[0m \u001b[0me\u001b[0m\u001b[0;34m:\u001b[0m\u001b[0;34m\u001b[0m\u001b[0;34m\u001b[0m\u001b[0m\n\u001b[0;32m--> 995\u001b[0;31m                 \u001b[0merror_handler\u001b[0m\u001b[0;34m(\u001b[0m\u001b[0mname\u001b[0m\u001b[0;34m,\u001b[0m \u001b[0mproc\u001b[0m\u001b[0;34m,\u001b[0m \u001b[0;34m[\u001b[0m\u001b[0mdoc\u001b[0m\u001b[0;34m]\u001b[0m\u001b[0;34m,\u001b[0m \u001b[0me\u001b[0m\u001b[0;34m)\u001b[0m\u001b[0;34m\u001b[0m\u001b[0;34m\u001b[0m\u001b[0m\n\u001b[0m\u001b[1;32m    996\u001b[0m             \u001b[0;32mif\u001b[0m \u001b[0mdoc\u001b[0m \u001b[0;32mis\u001b[0m \u001b[0;32mNone\u001b[0m\u001b[0;34m:\u001b[0m\u001b[0;34m\u001b[0m\u001b[0;34m\u001b[0m\u001b[0m\n\u001b[1;32m    997\u001b[0m                 \u001b[0;32mraise\u001b[0m \u001b[0mValueError\u001b[0m\u001b[0;34m(\u001b[0m\u001b[0mErrors\u001b[0m\u001b[0;34m.\u001b[0m\u001b[0mE005\u001b[0m\u001b[0;34m.\u001b[0m\u001b[0mformat\u001b[0m\u001b[0;34m(\u001b[0m\u001b[0mname\u001b[0m\u001b[0;34m=\u001b[0m\u001b[0mname\u001b[0m\u001b[0;34m)\u001b[0m\u001b[0;34m)\u001b[0m\u001b[0;34m\u001b[0m\u001b[0;34m\u001b[0m\u001b[0m\n",
      "\u001b[0;32m/opt/anaconda3/envs/ontoSpacy/lib/python3.9/site-packages/spacy-3.0.5-py3.9-macosx-10.9-x86_64.egg/spacy/util.py\u001b[0m in \u001b[0;36mraise_error\u001b[0;34m(proc_name, proc, docs, e)\u001b[0m\n\u001b[1;32m   1496\u001b[0m \u001b[0;34m\u001b[0m\u001b[0m\n\u001b[1;32m   1497\u001b[0m \u001b[0;32mdef\u001b[0m \u001b[0mraise_error\u001b[0m\u001b[0;34m(\u001b[0m\u001b[0mproc_name\u001b[0m\u001b[0;34m,\u001b[0m \u001b[0mproc\u001b[0m\u001b[0;34m,\u001b[0m \u001b[0mdocs\u001b[0m\u001b[0;34m,\u001b[0m \u001b[0me\u001b[0m\u001b[0;34m)\u001b[0m\u001b[0;34m:\u001b[0m\u001b[0;34m\u001b[0m\u001b[0;34m\u001b[0m\u001b[0m\n\u001b[0;32m-> 1498\u001b[0;31m     \u001b[0;32mraise\u001b[0m \u001b[0me\u001b[0m\u001b[0;34m\u001b[0m\u001b[0;34m\u001b[0m\u001b[0m\n\u001b[0m\u001b[1;32m   1499\u001b[0m \u001b[0;34m\u001b[0m\u001b[0m\n\u001b[1;32m   1500\u001b[0m \u001b[0;34m\u001b[0m\u001b[0m\n",
      "\u001b[0;32m/opt/anaconda3/envs/ontoSpacy/lib/python3.9/site-packages/spacy-3.0.5-py3.9-macosx-10.9-x86_64.egg/spacy/language.py\u001b[0m in \u001b[0;36m__call__\u001b[0;34m(self, text, disable, component_cfg)\u001b[0m\n\u001b[1;32m    988\u001b[0m                 \u001b[0merror_handler\u001b[0m \u001b[0;34m=\u001b[0m \u001b[0mproc\u001b[0m\u001b[0;34m.\u001b[0m\u001b[0mget_error_handler\u001b[0m\u001b[0;34m(\u001b[0m\u001b[0;34m)\u001b[0m\u001b[0;34m\u001b[0m\u001b[0;34m\u001b[0m\u001b[0m\n\u001b[1;32m    989\u001b[0m             \u001b[0;32mtry\u001b[0m\u001b[0;34m:\u001b[0m\u001b[0;34m\u001b[0m\u001b[0;34m\u001b[0m\u001b[0m\n\u001b[0;32m--> 990\u001b[0;31m                 \u001b[0mdoc\u001b[0m \u001b[0;34m=\u001b[0m \u001b[0mproc\u001b[0m\u001b[0;34m(\u001b[0m\u001b[0mdoc\u001b[0m\u001b[0;34m,\u001b[0m \u001b[0;34m**\u001b[0m\u001b[0mcomponent_cfg\u001b[0m\u001b[0;34m.\u001b[0m\u001b[0mget\u001b[0m\u001b[0;34m(\u001b[0m\u001b[0mname\u001b[0m\u001b[0;34m,\u001b[0m \u001b[0;34m{\u001b[0m\u001b[0;34m}\u001b[0m\u001b[0;34m)\u001b[0m\u001b[0;34m)\u001b[0m\u001b[0;34m\u001b[0m\u001b[0;34m\u001b[0m\u001b[0m\n\u001b[0m\u001b[1;32m    991\u001b[0m             \u001b[0;32mexcept\u001b[0m \u001b[0mKeyError\u001b[0m \u001b[0;32mas\u001b[0m \u001b[0me\u001b[0m\u001b[0;34m:\u001b[0m\u001b[0;34m\u001b[0m\u001b[0;34m\u001b[0m\u001b[0m\n\u001b[1;32m    992\u001b[0m                 \u001b[0;31m# This typically happens if a component is not initialized\u001b[0m\u001b[0;34m\u001b[0m\u001b[0;34m\u001b[0m\u001b[0;34m\u001b[0m\u001b[0m\n",
      "\u001b[0;32m<ipython-input-18-2b2764f3efa5>\u001b[0m in \u001b[0;36menvo_extractor\u001b[0;34m(doc)\u001b[0m\n\u001b[1;32m      6\u001b[0m     \u001b[0mspans\u001b[0m \u001b[0;34m=\u001b[0m \u001b[0;34m[\u001b[0m\u001b[0mSpan\u001b[0m\u001b[0;34m(\u001b[0m\u001b[0mdoc\u001b[0m\u001b[0;34m,\u001b[0m \u001b[0mstart\u001b[0m\u001b[0;34m,\u001b[0m \u001b[0mend\u001b[0m\u001b[0;34m,\u001b[0m \u001b[0mlabel\u001b[0m \u001b[0;34m=\u001b[0m \u001b[0;34m'ENVO'\u001b[0m\u001b[0;34m)\u001b[0m \u001b[0;32mfor\u001b[0m \u001b[0mmatchId\u001b[0m\u001b[0;34m,\u001b[0m \u001b[0mstart\u001b[0m\u001b[0;34m,\u001b[0m \u001b[0mend\u001b[0m \u001b[0;32min\u001b[0m \u001b[0mmatches\u001b[0m\u001b[0;34m]\u001b[0m\u001b[0;34m\u001b[0m\u001b[0;34m\u001b[0m\u001b[0m\n\u001b[1;32m      7\u001b[0m     \u001b[0mprint\u001b[0m\u001b[0;34m(\u001b[0m\u001b[0mspans\u001b[0m\u001b[0;34m)\u001b[0m\u001b[0;34m\u001b[0m\u001b[0;34m\u001b[0m\u001b[0m\n\u001b[0;32m----> 8\u001b[0;31m     \u001b[0mdoc\u001b[0m\u001b[0;34m.\u001b[0m\u001b[0ments\u001b[0m \u001b[0;34m=\u001b[0m \u001b[0mspans\u001b[0m\u001b[0;34m\u001b[0m\u001b[0;34m\u001b[0m\u001b[0m\n\u001b[0m\u001b[1;32m      9\u001b[0m \u001b[0;34m\u001b[0m\u001b[0m\n\u001b[1;32m     10\u001b[0m     \u001b[0;32mfor\u001b[0m \u001b[0mi\u001b[0m\u001b[0;34m,\u001b[0m \u001b[0mspan\u001b[0m \u001b[0;32min\u001b[0m \u001b[0menumerate\u001b[0m\u001b[0;34m(\u001b[0m\u001b[0mspans\u001b[0m\u001b[0;34m)\u001b[0m\u001b[0;34m:\u001b[0m\u001b[0;34m\u001b[0m\u001b[0;34m\u001b[0m\u001b[0m\n",
      "\u001b[0;32m/opt/anaconda3/envs/ontoSpacy/lib/python3.9/site-packages/spacy-3.0.5-py3.9-macosx-10.9-x86_64.egg/spacy/tokens/doc.pyx\u001b[0m in \u001b[0;36mspacy.tokens.doc.Doc.ents.__set__\u001b[0;34m()\u001b[0m\n",
      "\u001b[0;32m/opt/anaconda3/envs/ontoSpacy/lib/python3.9/site-packages/spacy-3.0.5-py3.9-macosx-10.9-x86_64.egg/spacy/tokens/doc.pyx\u001b[0m in \u001b[0;36mspacy.tokens.doc.Doc.set_ents\u001b[0;34m()\u001b[0m\n",
      "\u001b[0;31mValueError\u001b[0m: [E1010] Unable to set entity information for token 0 which is included in more than one span in entities, blocked, missing or outside."
     ]
    }
   ],
   "source": [
    "##########\n",
    "# IMPORTANT GOTCHAS!\n",
    "# While creating termlists make sure terms that are the same after lemmatization are assigned the same ID.\n",
    "# This dictates to undo the'_SYNONYM' added for synonyms\n",
    "##########\n",
    "#print(envoTerms[envoTerms['name'].str.contains('surface structure')])\n",
    "test1 = \"\"\"surface structures.\"\"\"\n",
    "doc = nlp(test1)\n"
   ]
  },
  {
   "cell_type": "code",
   "execution_count": 21,
   "id": "cordless-henry",
   "metadata": {
    "scrolled": true
   },
   "outputs": [
    {
     "name": "stdout",
     "output_type": "stream",
     "text": [
      "               CURIE                  name               category\n",
      "10248  ENVO:02000009  plant tissue culture  biolink:OntologyClass\n",
      "10271  ENVO:02000007        tissue culture  biolink:OntologyClass\n",
      "[tissue, tissue culture]\n"
     ]
    },
    {
     "ename": "ValueError",
     "evalue": "[E1010] Unable to set entity information for token 0 which is included in more than one span in entities, blocked, missing or outside.",
     "output_type": "error",
     "traceback": [
      "\u001b[0;31m---------------------------------------------------------------------------\u001b[0m",
      "\u001b[0;31mValueError\u001b[0m                                Traceback (most recent call last)",
      "\u001b[0;32m<ipython-input-21-0bb2225eeff5>\u001b[0m in \u001b[0;36m<module>\u001b[0;34m\u001b[0m\n\u001b[1;32m      1\u001b[0m \u001b[0mprint\u001b[0m\u001b[0;34m(\u001b[0m\u001b[0menvoTerms\u001b[0m\u001b[0;34m[\u001b[0m\u001b[0menvoTerms\u001b[0m\u001b[0;34m[\u001b[0m\u001b[0;34m'name'\u001b[0m\u001b[0;34m]\u001b[0m\u001b[0;34m.\u001b[0m\u001b[0mstr\u001b[0m\u001b[0;34m.\u001b[0m\u001b[0mcontains\u001b[0m\u001b[0;34m(\u001b[0m\u001b[0;34m'tissue culture'\u001b[0m\u001b[0;34m)\u001b[0m\u001b[0;34m]\u001b[0m\u001b[0;34m)\u001b[0m\u001b[0;34m\u001b[0m\u001b[0;34m\u001b[0m\u001b[0m\n\u001b[1;32m      2\u001b[0m \u001b[0mtest2\u001b[0m \u001b[0;34m=\u001b[0m \u001b[0;34m\"\"\"tissue culture\"\"\"\u001b[0m\u001b[0;34m\u001b[0m\u001b[0;34m\u001b[0m\u001b[0m\n\u001b[0;32m----> 3\u001b[0;31m \u001b[0mdoc\u001b[0m \u001b[0;34m=\u001b[0m \u001b[0mnlp\u001b[0m\u001b[0;34m(\u001b[0m\u001b[0mtest2\u001b[0m\u001b[0;34m)\u001b[0m\u001b[0;34m\u001b[0m\u001b[0;34m\u001b[0m\u001b[0m\n\u001b[0m",
      "\u001b[0;32m/opt/anaconda3/envs/ontoSpacy/lib/python3.9/site-packages/spacy-3.0.5-py3.9-macosx-10.9-x86_64.egg/spacy/language.py\u001b[0m in \u001b[0;36m__call__\u001b[0;34m(self, text, disable, component_cfg)\u001b[0m\n\u001b[1;32m    993\u001b[0m                 \u001b[0;32mraise\u001b[0m \u001b[0mValueError\u001b[0m\u001b[0;34m(\u001b[0m\u001b[0mErrors\u001b[0m\u001b[0;34m.\u001b[0m\u001b[0mE109\u001b[0m\u001b[0;34m.\u001b[0m\u001b[0mformat\u001b[0m\u001b[0;34m(\u001b[0m\u001b[0mname\u001b[0m\u001b[0;34m=\u001b[0m\u001b[0mname\u001b[0m\u001b[0;34m)\u001b[0m\u001b[0;34m)\u001b[0m \u001b[0;32mfrom\u001b[0m \u001b[0me\u001b[0m\u001b[0;34m\u001b[0m\u001b[0;34m\u001b[0m\u001b[0m\n\u001b[1;32m    994\u001b[0m             \u001b[0;32mexcept\u001b[0m \u001b[0mException\u001b[0m \u001b[0;32mas\u001b[0m \u001b[0me\u001b[0m\u001b[0;34m:\u001b[0m\u001b[0;34m\u001b[0m\u001b[0;34m\u001b[0m\u001b[0m\n\u001b[0;32m--> 995\u001b[0;31m                 \u001b[0merror_handler\u001b[0m\u001b[0;34m(\u001b[0m\u001b[0mname\u001b[0m\u001b[0;34m,\u001b[0m \u001b[0mproc\u001b[0m\u001b[0;34m,\u001b[0m \u001b[0;34m[\u001b[0m\u001b[0mdoc\u001b[0m\u001b[0;34m]\u001b[0m\u001b[0;34m,\u001b[0m \u001b[0me\u001b[0m\u001b[0;34m)\u001b[0m\u001b[0;34m\u001b[0m\u001b[0;34m\u001b[0m\u001b[0m\n\u001b[0m\u001b[1;32m    996\u001b[0m             \u001b[0;32mif\u001b[0m \u001b[0mdoc\u001b[0m \u001b[0;32mis\u001b[0m \u001b[0;32mNone\u001b[0m\u001b[0;34m:\u001b[0m\u001b[0;34m\u001b[0m\u001b[0;34m\u001b[0m\u001b[0m\n\u001b[1;32m    997\u001b[0m                 \u001b[0;32mraise\u001b[0m \u001b[0mValueError\u001b[0m\u001b[0;34m(\u001b[0m\u001b[0mErrors\u001b[0m\u001b[0;34m.\u001b[0m\u001b[0mE005\u001b[0m\u001b[0;34m.\u001b[0m\u001b[0mformat\u001b[0m\u001b[0;34m(\u001b[0m\u001b[0mname\u001b[0m\u001b[0;34m=\u001b[0m\u001b[0mname\u001b[0m\u001b[0;34m)\u001b[0m\u001b[0;34m)\u001b[0m\u001b[0;34m\u001b[0m\u001b[0;34m\u001b[0m\u001b[0m\n",
      "\u001b[0;32m/opt/anaconda3/envs/ontoSpacy/lib/python3.9/site-packages/spacy-3.0.5-py3.9-macosx-10.9-x86_64.egg/spacy/util.py\u001b[0m in \u001b[0;36mraise_error\u001b[0;34m(proc_name, proc, docs, e)\u001b[0m\n\u001b[1;32m   1496\u001b[0m \u001b[0;34m\u001b[0m\u001b[0m\n\u001b[1;32m   1497\u001b[0m \u001b[0;32mdef\u001b[0m \u001b[0mraise_error\u001b[0m\u001b[0;34m(\u001b[0m\u001b[0mproc_name\u001b[0m\u001b[0;34m,\u001b[0m \u001b[0mproc\u001b[0m\u001b[0;34m,\u001b[0m \u001b[0mdocs\u001b[0m\u001b[0;34m,\u001b[0m \u001b[0me\u001b[0m\u001b[0;34m)\u001b[0m\u001b[0;34m:\u001b[0m\u001b[0;34m\u001b[0m\u001b[0;34m\u001b[0m\u001b[0m\n\u001b[0;32m-> 1498\u001b[0;31m     \u001b[0;32mraise\u001b[0m \u001b[0me\u001b[0m\u001b[0;34m\u001b[0m\u001b[0;34m\u001b[0m\u001b[0m\n\u001b[0m\u001b[1;32m   1499\u001b[0m \u001b[0;34m\u001b[0m\u001b[0m\n\u001b[1;32m   1500\u001b[0m \u001b[0;34m\u001b[0m\u001b[0m\n",
      "\u001b[0;32m/opt/anaconda3/envs/ontoSpacy/lib/python3.9/site-packages/spacy-3.0.5-py3.9-macosx-10.9-x86_64.egg/spacy/language.py\u001b[0m in \u001b[0;36m__call__\u001b[0;34m(self, text, disable, component_cfg)\u001b[0m\n\u001b[1;32m    988\u001b[0m                 \u001b[0merror_handler\u001b[0m \u001b[0;34m=\u001b[0m \u001b[0mproc\u001b[0m\u001b[0;34m.\u001b[0m\u001b[0mget_error_handler\u001b[0m\u001b[0;34m(\u001b[0m\u001b[0;34m)\u001b[0m\u001b[0;34m\u001b[0m\u001b[0;34m\u001b[0m\u001b[0m\n\u001b[1;32m    989\u001b[0m             \u001b[0;32mtry\u001b[0m\u001b[0;34m:\u001b[0m\u001b[0;34m\u001b[0m\u001b[0;34m\u001b[0m\u001b[0m\n\u001b[0;32m--> 990\u001b[0;31m                 \u001b[0mdoc\u001b[0m \u001b[0;34m=\u001b[0m \u001b[0mproc\u001b[0m\u001b[0;34m(\u001b[0m\u001b[0mdoc\u001b[0m\u001b[0;34m,\u001b[0m \u001b[0;34m**\u001b[0m\u001b[0mcomponent_cfg\u001b[0m\u001b[0;34m.\u001b[0m\u001b[0mget\u001b[0m\u001b[0;34m(\u001b[0m\u001b[0mname\u001b[0m\u001b[0;34m,\u001b[0m \u001b[0;34m{\u001b[0m\u001b[0;34m}\u001b[0m\u001b[0;34m)\u001b[0m\u001b[0;34m)\u001b[0m\u001b[0;34m\u001b[0m\u001b[0;34m\u001b[0m\u001b[0m\n\u001b[0m\u001b[1;32m    991\u001b[0m             \u001b[0;32mexcept\u001b[0m \u001b[0mKeyError\u001b[0m \u001b[0;32mas\u001b[0m \u001b[0me\u001b[0m\u001b[0;34m:\u001b[0m\u001b[0;34m\u001b[0m\u001b[0;34m\u001b[0m\u001b[0m\n\u001b[1;32m    992\u001b[0m                 \u001b[0;31m# This typically happens if a component is not initialized\u001b[0m\u001b[0;34m\u001b[0m\u001b[0;34m\u001b[0m\u001b[0;34m\u001b[0m\u001b[0m\n",
      "\u001b[0;32m<ipython-input-18-2b2764f3efa5>\u001b[0m in \u001b[0;36menvo_extractor\u001b[0;34m(doc)\u001b[0m\n\u001b[1;32m      6\u001b[0m     \u001b[0mspans\u001b[0m \u001b[0;34m=\u001b[0m \u001b[0;34m[\u001b[0m\u001b[0mSpan\u001b[0m\u001b[0;34m(\u001b[0m\u001b[0mdoc\u001b[0m\u001b[0;34m,\u001b[0m \u001b[0mstart\u001b[0m\u001b[0;34m,\u001b[0m \u001b[0mend\u001b[0m\u001b[0;34m,\u001b[0m \u001b[0mlabel\u001b[0m \u001b[0;34m=\u001b[0m \u001b[0;34m'ENVO'\u001b[0m\u001b[0;34m)\u001b[0m \u001b[0;32mfor\u001b[0m \u001b[0mmatchId\u001b[0m\u001b[0;34m,\u001b[0m \u001b[0mstart\u001b[0m\u001b[0;34m,\u001b[0m \u001b[0mend\u001b[0m \u001b[0;32min\u001b[0m \u001b[0mmatches\u001b[0m\u001b[0;34m]\u001b[0m\u001b[0;34m\u001b[0m\u001b[0;34m\u001b[0m\u001b[0m\n\u001b[1;32m      7\u001b[0m     \u001b[0mprint\u001b[0m\u001b[0;34m(\u001b[0m\u001b[0mspans\u001b[0m\u001b[0;34m)\u001b[0m\u001b[0;34m\u001b[0m\u001b[0;34m\u001b[0m\u001b[0m\n\u001b[0;32m----> 8\u001b[0;31m     \u001b[0mdoc\u001b[0m\u001b[0;34m.\u001b[0m\u001b[0ments\u001b[0m \u001b[0;34m=\u001b[0m \u001b[0mspans\u001b[0m\u001b[0;34m\u001b[0m\u001b[0;34m\u001b[0m\u001b[0m\n\u001b[0m\u001b[1;32m      9\u001b[0m \u001b[0;34m\u001b[0m\u001b[0m\n\u001b[1;32m     10\u001b[0m     \u001b[0;32mfor\u001b[0m \u001b[0mi\u001b[0m\u001b[0;34m,\u001b[0m \u001b[0mspan\u001b[0m \u001b[0;32min\u001b[0m \u001b[0menumerate\u001b[0m\u001b[0;34m(\u001b[0m\u001b[0mspans\u001b[0m\u001b[0;34m)\u001b[0m\u001b[0;34m:\u001b[0m\u001b[0;34m\u001b[0m\u001b[0;34m\u001b[0m\u001b[0m\n",
      "\u001b[0;32m/opt/anaconda3/envs/ontoSpacy/lib/python3.9/site-packages/spacy-3.0.5-py3.9-macosx-10.9-x86_64.egg/spacy/tokens/doc.pyx\u001b[0m in \u001b[0;36mspacy.tokens.doc.Doc.ents.__set__\u001b[0;34m()\u001b[0m\n",
      "\u001b[0;32m/opt/anaconda3/envs/ontoSpacy/lib/python3.9/site-packages/spacy-3.0.5-py3.9-macosx-10.9-x86_64.egg/spacy/tokens/doc.pyx\u001b[0m in \u001b[0;36mspacy.tokens.doc.Doc.set_ents\u001b[0;34m()\u001b[0m\n",
      "\u001b[0;31mValueError\u001b[0m: [E1010] Unable to set entity information for token 0 which is included in more than one span in entities, blocked, missing or outside."
     ]
    }
   ],
   "source": [
    "print(envoTerms[envoTerms['name'].str.contains('tissue culture')])\n",
    "test2 = \"\"\"tissue culture\"\"\"\n",
    "doc = nlp(test2)\n"
   ]
  },
  {
   "cell_type": "code",
   "execution_count": 22,
   "id": "necessary-antarctica",
   "metadata": {},
   "outputs": [
    {
     "name": "stdout",
     "output_type": "stream",
     "text": [
      "\u001b[1m\r\n",
      "============================== Info about spaCy ==============================\u001b[0m\r\n",
      "\r\n",
      "spaCy version    3.0.5                         \r\n",
      "Location         /opt/anaconda3/envs/ontoSpacy/lib/python3.9/site-packages/spacy-3.0.5-py3.9-macosx-10.9-x86_64.egg/spacy\r\n",
      "Platform         macOS-10.15.7-x86_64-i386-64bit\r\n",
      "Python version   3.9.2                         \r\n",
      "Pipelines        en_core_web_sm (3.0.0)        \r\n",
      "\r\n"
     ]
    }
   ],
   "source": [
    "!python -m spacy info"
   ]
  },
  {
   "cell_type": "code",
   "execution_count": null,
   "id": "monetary-germany",
   "metadata": {},
   "outputs": [],
   "source": []
  }
 ],
 "metadata": {
  "kernelspec": {
   "display_name": "Python 3",
   "language": "python",
   "name": "python3"
  },
  "language_info": {
   "codemirror_mode": {
    "name": "ipython",
    "version": 3
   },
   "file_extension": ".py",
   "mimetype": "text/x-python",
   "name": "python",
   "nbconvert_exporter": "python",
   "pygments_lexer": "ipython3",
   "version": "3.9.2"
  }
 },
 "nbformat": 4,
 "nbformat_minor": 5
}
